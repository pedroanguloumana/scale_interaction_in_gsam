{
 "cells": [
  {
   "cell_type": "code",
   "execution_count": null,
   "id": "6af9f82e",
   "metadata": {},
   "outputs": [],
   "source": [
    "%load_ext atu"
   ]
  }
 ],
 "metadata": {
  "language_info": {
   "name": "python"
  }
 },
 "nbformat": 4,
 "nbformat_minor": 5
}
