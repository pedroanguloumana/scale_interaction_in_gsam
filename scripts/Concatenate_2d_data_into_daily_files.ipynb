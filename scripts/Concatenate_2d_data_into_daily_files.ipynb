{
 "cells": [
  {
   "cell_type": "code",
   "execution_count": null,
   "id": "f955125d",
   "metadata": {},
   "outputs": [
    {
     "name": "stdout",
     "output_type": "stream",
     "text": [
      "The autoreload extension is already loaded. To reload it, use:\n",
      "  %reload_ext autoreload\n"
     ]
    }
   ],
   "source": [
    "%load_ext autoreload\n",
    "%autoreload 2\n",
    "import xarray as xr\n",
    "import os\n",
    "import pandas as pd\n",
    "from glob import glob\n",
    "from os.path import basename\n",
    "from IPython.display import clear_output"
   ]
  },
  {
   "cell_type": "code",
   "execution_count": 2,
   "id": "f7b470b3",
   "metadata": {},
   "outputs": [],
   "source": [
    "files_2d = sorted(glob('/Users/pedro/Datasets/DYAMOND/gSAM/tropical_northwest_pacific/2d/*.nc'))\n",
    "def _get_file_time(fn):\n",
    "    time_string = basename(fn).split('_')[6]\n",
    "    return pd.to_datetime(time_string, format='%Y%m%d%H%M%S')\n",
    "file_times = pd.DatetimeIndex([_get_file_time(f) for f in files_2d])"
   ]
  },
  {
   "cell_type": "code",
   "execution_count": 17,
   "id": "f4ff2119",
   "metadata": {},
   "outputs": [
    {
     "name": "stdout",
     "output_type": "stream",
     "text": [
      "Processing 2020-03-01 00:00:00\n",
      "Saving...\n"
     ]
    }
   ],
   "source": [
    "out_dir = \"/Users/pedro/Datasets/DYAMOND/gSAM/tropical_northwest_pacific/2d/daily_2d\"\n",
    "os.makedirs(out_dir, exist_ok=True)\n",
    "by_day = pd.Series(files_2d, index=file_times).groupby(file_times.normalize())\n",
    "for i, (day, day_files) in enumerate(by_day):\n",
    "    clear_output()\n",
    "    print(f'Processing {day}')\n",
    "    out_path = out_dir + f\"/dyamond_2d_{day:%Y%m%d}.nc\"\n",
    "    ds = xr.open_mfdataset(day_files.tolist(), combine=\"by_coords\", parallel=True)\n",
    "    print('Saving...')\n",
    "    ds.to_netcdf(out_path)\n",
    "    ds.close()"
   ]
  }
 ],
 "metadata": {
  "kernelspec": {
   "display_name": "_explore",
   "language": "python",
   "name": "python3"
  },
  "language_info": {
   "codemirror_mode": {
    "name": "ipython",
    "version": 3
   },
   "file_extension": ".py",
   "mimetype": "text/x-python",
   "name": "python",
   "nbconvert_exporter": "python",
   "pygments_lexer": "ipython3",
   "version": "3.13.2"
  }
 },
 "nbformat": 4,
 "nbformat_minor": 5
}
